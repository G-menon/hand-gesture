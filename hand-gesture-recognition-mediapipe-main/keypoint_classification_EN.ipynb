{
 "cells": [
  {
   "cell_type": "code",
   "execution_count": 1,
   "metadata": {
    "id": "igMyGnjE9hEp"
   },
   "outputs": [],
   "source": [
    "import csv\n",
    "\n",
    "import numpy as np\n",
    "import tensorflow as tf\n",
    "from sklearn.model_selection import train_test_split\n",
    "\n",
    "RANDOM_SEED = 42"
   ]
  },
  {
   "cell_type": "markdown",
   "metadata": {
    "id": "t2HDvhIu9hEr"
   },
   "source": [
    "# Specify each path"
   ]
  },
  {
   "cell_type": "code",
   "execution_count": 2,
   "metadata": {
    "id": "9NvZP2Zn9hEy"
   },
   "outputs": [],
   "source": [
    "dataset = 'model/keypoint_classifier/keypoint.csv'\n",
    "model_save_path = 'model/keypoint_classifier/keypoint_classifier.hdf5'\n",
    "tflite_save_path = 'model/keypoint_classifier/keypoint_classifier.tflite'"
   ]
  },
  {
   "cell_type": "markdown",
   "metadata": {
    "id": "s5oMH7x19hEz"
   },
   "source": [
    "# Set number of classes"
   ]
  },
  {
   "cell_type": "code",
   "execution_count": 3,
   "metadata": {
    "id": "du4kodXL9hEz"
   },
   "outputs": [],
   "source": [
    "NUM_CLASSES = 26"
   ]
  },
  {
   "cell_type": "markdown",
   "metadata": {
    "id": "XjnL0uso9hEz"
   },
   "source": [
    "# Dataset reading"
   ]
  },
  {
   "cell_type": "code",
   "execution_count": 4,
   "metadata": {
    "id": "QT5ZqtEz9hE0"
   },
   "outputs": [],
   "source": [
    "X_dataset = np.loadtxt(dataset, delimiter=',', dtype='float32', usecols=list(range(1, (21 * 2) + 1)))"
   ]
  },
  {
   "cell_type": "code",
   "execution_count": 5,
   "metadata": {
    "id": "QmoKFsp49hE0"
   },
   "outputs": [],
   "source": [
    "y_dataset = np.loadtxt(dataset, delimiter=',', dtype='int32', usecols=(0))"
   ]
  },
  {
   "cell_type": "code",
   "execution_count": 6,
   "metadata": {
    "id": "xQU7JTZ_9hE0"
   },
   "outputs": [],
   "source": [
    "X_train, X_test, y_train, y_test = train_test_split(X_dataset, y_dataset, train_size=0.75, random_state=RANDOM_SEED)"
   ]
  },
  {
   "cell_type": "markdown",
   "metadata": {
    "id": "mxK_lETT9hE0"
   },
   "source": [
    "# Model building"
   ]
  },
  {
   "cell_type": "code",
   "execution_count": 7,
   "metadata": {
    "id": "vHBmUf1t9hE1"
   },
   "outputs": [],
   "source": [
    "model = tf.keras.models.Sequential([\n",
    "    tf.keras.layers.Input((21 * 2, )),\n",
    "    tf.keras.layers.Dropout(0.2),\n",
    "    tf.keras.layers.Dense(20, activation='relu'),\n",
    "    tf.keras.layers.Dropout(0.4),\n",
    "    tf.keras.layers.Dense(10, activation='relu'),\n",
    "    tf.keras.layers.Dense(NUM_CLASSES, activation='softmax')\n",
    "])"
   ]
  },
  {
   "cell_type": "code",
   "execution_count": 8,
   "metadata": {
    "colab": {
     "base_uri": "https://localhost:8080/"
    },
    "id": "ypqky9tc9hE1",
    "outputId": "5db082bb-30e3-4110-bf63-a1ee777ecd46"
   },
   "outputs": [
    {
     "name": "stdout",
     "output_type": "stream",
     "text": [
      "Model: \"sequential\"\n",
      "_________________________________________________________________\n",
      " Layer (type)                Output Shape              Param #   \n",
      "=================================================================\n",
      " dropout (Dropout)           (None, 42)                0         \n",
      "                                                                 \n",
      " dense (Dense)               (None, 20)                860       \n",
      "                                                                 \n",
      " dropout_1 (Dropout)         (None, 20)                0         \n",
      "                                                                 \n",
      " dense_1 (Dense)             (None, 10)                210       \n",
      "                                                                 \n",
      " dense_2 (Dense)             (None, 26)                286       \n",
      "                                                                 \n",
      "=================================================================\n",
      "Total params: 1,356\n",
      "Trainable params: 1,356\n",
      "Non-trainable params: 0\n",
      "_________________________________________________________________\n"
     ]
    }
   ],
   "source": [
    "model.summary()  # tf.keras.utils.plot_model(model, show_shapes=True)"
   ]
  },
  {
   "cell_type": "code",
   "execution_count": 9,
   "metadata": {
    "id": "MbMjOflQ9hE1"
   },
   "outputs": [],
   "source": [
    "# Model checkpoint callback\n",
    "cp_callback = tf.keras.callbacks.ModelCheckpoint(\n",
    "    model_save_path, verbose=1, save_weights_only=False)\n",
    "# Callback for early stopping\n",
    "es_callback = tf.keras.callbacks.EarlyStopping(patience=20, verbose=1)"
   ]
  },
  {
   "cell_type": "code",
   "execution_count": 10,
   "metadata": {
    "id": "c3Dac0M_9hE2"
   },
   "outputs": [],
   "source": [
    "# Model compilation\n",
    "model.compile(\n",
    "    optimizer='adam',\n",
    "    loss='sparse_categorical_crossentropy',\n",
    "    metrics=['accuracy']\n",
    ")"
   ]
  },
  {
   "cell_type": "markdown",
   "metadata": {
    "id": "7XI0j1Iu9hE2"
   },
   "source": [
    "# Model training"
   ]
  },
  {
   "cell_type": "code",
   "execution_count": 11,
   "metadata": {
    "colab": {
     "base_uri": "https://localhost:8080/"
    },
    "id": "WirBl-JE9hE3",
    "outputId": "71b30ca2-8294-4d9d-8aa2-800d90d399de",
    "scrolled": true
   },
   "outputs": [
    {
     "name": "stdout",
     "output_type": "stream",
     "text": [
      "Epoch 1/1000\n",
      "58/65 [=========================>....] - ETA: 0s - loss: 3.2646 - accuracy: 0.0493\n",
      "Epoch 1: saving model to model/keypoint_classifier\\keypoint_classifier.hdf5\n",
      "65/65 [==============================] - 2s 14ms/step - loss: 3.2582 - accuracy: 0.0508 - val_loss: 3.1881 - val_accuracy: 0.0444\n",
      "Epoch 2/1000\n",
      "52/65 [=======================>......] - ETA: 0s - loss: 3.1459 - accuracy: 0.0607\n",
      "Epoch 2: saving model to model/keypoint_classifier\\keypoint_classifier.hdf5\n",
      "65/65 [==============================] - 0s 6ms/step - loss: 3.1322 - accuracy: 0.0611 - val_loss: 3.0367 - val_accuracy: 0.0564\n",
      "Epoch 3/1000\n",
      "62/65 [===========================>..] - ETA: 0s - loss: 3.0062 - accuracy: 0.0882\n",
      "Epoch 3: saving model to model/keypoint_classifier\\keypoint_classifier.hdf5\n",
      "65/65 [==============================] - 0s 6ms/step - loss: 3.0043 - accuracy: 0.0895 - val_loss: 2.8724 - val_accuracy: 0.1571\n",
      "Epoch 4/1000\n",
      "64/65 [============================>.] - ETA: 0s - loss: 2.8697 - accuracy: 0.1279\n",
      "Epoch 4: saving model to model/keypoint_classifier\\keypoint_classifier.hdf5\n",
      "65/65 [==============================] - 0s 7ms/step - loss: 2.8681 - accuracy: 0.1285 - val_loss: 2.6921 - val_accuracy: 0.2168\n",
      "Epoch 5/1000\n",
      "53/65 [=======================>......] - ETA: 0s - loss: 2.7421 - accuracy: 0.1540\n",
      "Epoch 5: saving model to model/keypoint_classifier\\keypoint_classifier.hdf5\n",
      "65/65 [==============================] - 0s 6ms/step - loss: 2.7356 - accuracy: 0.1567 - val_loss: 2.5196 - val_accuracy: 0.2481\n",
      "Epoch 6/1000\n",
      "64/65 [============================>.] - ETA: 0s - loss: 2.6238 - accuracy: 0.1760\n",
      "Epoch 6: saving model to model/keypoint_classifier\\keypoint_classifier.hdf5\n",
      "65/65 [==============================] - 0s 6ms/step - loss: 2.6234 - accuracy: 0.1763 - val_loss: 2.3676 - val_accuracy: 0.2826\n",
      "Epoch 7/1000\n",
      "63/65 [============================>.] - ETA: 0s - loss: 2.5407 - accuracy: 0.1975\n",
      "Epoch 7: saving model to model/keypoint_classifier\\keypoint_classifier.hdf5\n",
      "65/65 [==============================] - 0s 6ms/step - loss: 2.5407 - accuracy: 0.1966 - val_loss: 2.2497 - val_accuracy: 0.3067\n",
      "Epoch 8/1000\n",
      "58/65 [=========================>....] - ETA: 0s - loss: 2.4718 - accuracy: 0.2103\n",
      "Epoch 8: saving model to model/keypoint_classifier\\keypoint_classifier.hdf5\n",
      "65/65 [==============================] - 0s 6ms/step - loss: 2.4659 - accuracy: 0.2129 - val_loss: 2.1609 - val_accuracy: 0.3398\n",
      "Epoch 9/1000\n",
      "58/65 [=========================>....] - ETA: 0s - loss: 2.4098 - accuracy: 0.2326\n",
      "Epoch 9: saving model to model/keypoint_classifier\\keypoint_classifier.hdf5\n",
      "65/65 [==============================] - 0s 7ms/step - loss: 2.4083 - accuracy: 0.2318 - val_loss: 2.0711 - val_accuracy: 0.3561\n",
      "Epoch 10/1000\n",
      "62/65 [===========================>..] - ETA: 0s - loss: 2.3431 - accuracy: 0.2429\n",
      "Epoch 10: saving model to model/keypoint_classifier\\keypoint_classifier.hdf5\n",
      "65/65 [==============================] - 0s 6ms/step - loss: 2.3446 - accuracy: 0.2418 - val_loss: 2.0048 - val_accuracy: 0.3827\n",
      "Epoch 11/1000\n",
      "48/65 [=====================>........] - ETA: 0s - loss: 2.3046 - accuracy: 0.2572\n",
      "Epoch 11: saving model to model/keypoint_classifier\\keypoint_classifier.hdf5\n",
      "65/65 [==============================] - 0s 6ms/step - loss: 2.3027 - accuracy: 0.2529 - val_loss: 1.9477 - val_accuracy: 0.4023\n",
      "Epoch 12/1000\n",
      "57/65 [=========================>....] - ETA: 0s - loss: 2.2560 - accuracy: 0.2634\n",
      "Epoch 12: saving model to model/keypoint_classifier\\keypoint_classifier.hdf5\n",
      "65/65 [==============================] - 0s 6ms/step - loss: 2.2522 - accuracy: 0.2643 - val_loss: 1.8846 - val_accuracy: 0.4125\n",
      "Epoch 13/1000\n",
      "57/65 [=========================>....] - ETA: 0s - loss: 2.2169 - accuracy: 0.2686\n",
      "Epoch 13: saving model to model/keypoint_classifier\\keypoint_classifier.hdf5\n",
      "65/65 [==============================] - 0s 6ms/step - loss: 2.2113 - accuracy: 0.2686 - val_loss: 1.8156 - val_accuracy: 0.4620\n",
      "Epoch 14/1000\n",
      "60/65 [==========================>...] - ETA: 0s - loss: 2.1676 - accuracy: 0.2839\n",
      "Epoch 14: saving model to model/keypoint_classifier\\keypoint_classifier.hdf5\n",
      "65/65 [==============================] - 0s 6ms/step - loss: 2.1646 - accuracy: 0.2826 - val_loss: 1.7637 - val_accuracy: 0.4816\n",
      "Epoch 15/1000\n",
      "57/65 [=========================>....] - ETA: 0s - loss: 2.1633 - accuracy: 0.2792\n",
      "Epoch 15: saving model to model/keypoint_classifier\\keypoint_classifier.hdf5\n",
      "65/65 [==============================] - 0s 6ms/step - loss: 2.1602 - accuracy: 0.2793 - val_loss: 1.7238 - val_accuracy: 0.4864\n",
      "Epoch 16/1000\n",
      "54/65 [=======================>......] - ETA: 0s - loss: 2.1098 - accuracy: 0.2885\n",
      "Epoch 16: saving model to model/keypoint_classifier\\keypoint_classifier.hdf5\n",
      "65/65 [==============================] - 0s 6ms/step - loss: 2.1077 - accuracy: 0.2869 - val_loss: 1.6849 - val_accuracy: 0.5489\n",
      "Epoch 17/1000\n",
      "58/65 [=========================>....] - ETA: 0s - loss: 2.0883 - accuracy: 0.2885\n",
      "Epoch 17: saving model to model/keypoint_classifier\\keypoint_classifier.hdf5\n",
      "65/65 [==============================] - 0s 6ms/step - loss: 2.0887 - accuracy: 0.2894 - val_loss: 1.6436 - val_accuracy: 0.5311\n",
      "Epoch 18/1000\n",
      "61/65 [===========================>..] - ETA: 0s - loss: 2.0585 - accuracy: 0.3076\n",
      "Epoch 18: saving model to model/keypoint_classifier\\keypoint_classifier.hdf5\n",
      "65/65 [==============================] - 0s 6ms/step - loss: 2.0562 - accuracy: 0.3064 - val_loss: 1.6100 - val_accuracy: 0.5540\n",
      "Epoch 19/1000\n",
      "59/65 [==========================>...] - ETA: 0s - loss: 2.0402 - accuracy: 0.3079\n",
      "Epoch 19: saving model to model/keypoint_classifier\\keypoint_classifier.hdf5\n",
      "65/65 [==============================] - 0s 6ms/step - loss: 2.0396 - accuracy: 0.3114 - val_loss: 1.6001 - val_accuracy: 0.5478\n",
      "Epoch 20/1000\n",
      "54/65 [=======================>......] - ETA: 0s - loss: 2.0229 - accuracy: 0.3105\n",
      "Epoch 20: saving model to model/keypoint_classifier\\keypoint_classifier.hdf5\n",
      "65/65 [==============================] - 0s 6ms/step - loss: 2.0172 - accuracy: 0.3126 - val_loss: 1.5690 - val_accuracy: 0.5580\n",
      "Epoch 21/1000\n",
      "62/65 [===========================>..] - ETA: 0s - loss: 1.9988 - accuracy: 0.3237\n",
      "Epoch 21: saving model to model/keypoint_classifier\\keypoint_classifier.hdf5\n",
      "65/65 [==============================] - 0s 5ms/step - loss: 1.9982 - accuracy: 0.3228 - val_loss: 1.5414 - val_accuracy: 0.5740\n",
      "Epoch 22/1000\n",
      "46/65 [====================>.........] - ETA: 0s - loss: 1.9929 - accuracy: 0.3166\n",
      "Epoch 22: saving model to model/keypoint_classifier\\keypoint_classifier.hdf5\n",
      "65/65 [==============================] - 0s 5ms/step - loss: 1.9865 - accuracy: 0.3198 - val_loss: 1.5168 - val_accuracy: 0.5995\n",
      "Epoch 23/1000\n",
      "55/65 [========================>.....] - ETA: 0s - loss: 1.9697 - accuracy: 0.3338\n",
      "Epoch 23: saving model to model/keypoint_classifier\\keypoint_classifier.hdf5\n",
      "65/65 [==============================] - 0s 6ms/step - loss: 1.9663 - accuracy: 0.3355 - val_loss: 1.5016 - val_accuracy: 0.5969\n",
      "Epoch 24/1000\n",
      "64/65 [============================>.] - ETA: 0s - loss: 1.9711 - accuracy: 0.3300\n",
      "Epoch 24: saving model to model/keypoint_classifier\\keypoint_classifier.hdf5\n",
      "65/65 [==============================] - 0s 6ms/step - loss: 1.9711 - accuracy: 0.3293 - val_loss: 1.4761 - val_accuracy: 0.5991\n",
      "Epoch 25/1000\n",
      "54/65 [=======================>......] - ETA: 0s - loss: 1.9462 - accuracy: 0.3384\n",
      "Epoch 25: saving model to model/keypoint_classifier\\keypoint_classifier.hdf5\n",
      "65/65 [==============================] - 0s 6ms/step - loss: 1.9409 - accuracy: 0.3394 - val_loss: 1.4580 - val_accuracy: 0.6140\n",
      "Epoch 26/1000\n",
      "49/65 [=====================>........] - ETA: 0s - loss: 1.9378 - accuracy: 0.3414\n",
      "Epoch 26: saving model to model/keypoint_classifier\\keypoint_classifier.hdf5\n",
      "65/65 [==============================] - 0s 6ms/step - loss: 1.9291 - accuracy: 0.3406 - val_loss: 1.4359 - val_accuracy: 0.6366\n",
      "Epoch 27/1000\n",
      "58/65 [=========================>....] - ETA: 0s - loss: 1.9114 - accuracy: 0.3376\n",
      "Epoch 27: saving model to model/keypoint_classifier\\keypoint_classifier.hdf5\n",
      "65/65 [==============================] - 0s 6ms/step - loss: 1.9129 - accuracy: 0.3393 - val_loss: 1.4277 - val_accuracy: 0.6428\n",
      "Epoch 28/1000\n"
     ]
    },
    {
     "name": "stdout",
     "output_type": "stream",
     "text": [
      "60/65 [==========================>...] - ETA: 0s - loss: 1.9207 - accuracy: 0.3447\n",
      "Epoch 28: saving model to model/keypoint_classifier\\keypoint_classifier.hdf5\n",
      "65/65 [==============================] - 0s 6ms/step - loss: 1.9169 - accuracy: 0.3468 - val_loss: 1.4259 - val_accuracy: 0.6279\n",
      "Epoch 29/1000\n",
      "54/65 [=======================>......] - ETA: 0s - loss: 1.8911 - accuracy: 0.3466\n",
      "Epoch 29: saving model to model/keypoint_classifier\\keypoint_classifier.hdf5\n",
      "65/65 [==============================] - 0s 6ms/step - loss: 1.8938 - accuracy: 0.3489 - val_loss: 1.3933 - val_accuracy: 0.6515\n",
      "Epoch 30/1000\n",
      "48/65 [=====================>........] - ETA: 0s - loss: 1.8765 - accuracy: 0.3582\n",
      "Epoch 30: saving model to model/keypoint_classifier\\keypoint_classifier.hdf5\n",
      "65/65 [==============================] - 0s 6ms/step - loss: 1.8767 - accuracy: 0.3558 - val_loss: 1.3843 - val_accuracy: 0.6668\n",
      "Epoch 31/1000\n",
      "62/65 [===========================>..] - ETA: 0s - loss: 1.8719 - accuracy: 0.3561\n",
      "Epoch 31: saving model to model/keypoint_classifier\\keypoint_classifier.hdf5\n",
      "65/65 [==============================] - 0s 6ms/step - loss: 1.8688 - accuracy: 0.3566 - val_loss: 1.3651 - val_accuracy: 0.6639\n",
      "Epoch 32/1000\n",
      "65/65 [==============================] - ETA: 0s - loss: 1.8846 - accuracy: 0.3496\n",
      "Epoch 32: saving model to model/keypoint_classifier\\keypoint_classifier.hdf5\n",
      "65/65 [==============================] - 0s 6ms/step - loss: 1.8846 - accuracy: 0.3496 - val_loss: 1.3619 - val_accuracy: 0.6664\n",
      "Epoch 33/1000\n",
      "58/65 [=========================>....] - ETA: 0s - loss: 1.8568 - accuracy: 0.3607\n",
      "Epoch 33: saving model to model/keypoint_classifier\\keypoint_classifier.hdf5\n",
      "65/65 [==============================] - 0s 6ms/step - loss: 1.8662 - accuracy: 0.3583 - val_loss: 1.3533 - val_accuracy: 0.6886\n",
      "Epoch 34/1000\n",
      "61/65 [===========================>..] - ETA: 0s - loss: 1.8434 - accuracy: 0.3710\n",
      "Epoch 34: saving model to model/keypoint_classifier\\keypoint_classifier.hdf5\n",
      "65/65 [==============================] - 0s 6ms/step - loss: 1.8417 - accuracy: 0.3724 - val_loss: 1.3317 - val_accuracy: 0.6944\n",
      "Epoch 35/1000\n",
      "51/65 [======================>.......] - ETA: 0s - loss: 1.8279 - accuracy: 0.3781\n",
      "Epoch 35: saving model to model/keypoint_classifier\\keypoint_classifier.hdf5\n",
      "65/65 [==============================] - 0s 5ms/step - loss: 1.8313 - accuracy: 0.3769 - val_loss: 1.3212 - val_accuracy: 0.6955\n",
      "Epoch 36/1000\n",
      "60/65 [==========================>...] - ETA: 0s - loss: 1.8392 - accuracy: 0.3711\n",
      "Epoch 36: saving model to model/keypoint_classifier\\keypoint_classifier.hdf5\n",
      "65/65 [==============================] - 0s 6ms/step - loss: 1.8376 - accuracy: 0.3727 - val_loss: 1.3113 - val_accuracy: 0.7006\n",
      "Epoch 37/1000\n",
      "59/65 [==========================>...] - ETA: 0s - loss: 1.8113 - accuracy: 0.3783\n",
      "Epoch 37: saving model to model/keypoint_classifier\\keypoint_classifier.hdf5\n",
      "65/65 [==============================] - 0s 6ms/step - loss: 1.8113 - accuracy: 0.3757 - val_loss: 1.3129 - val_accuracy: 0.6970\n",
      "Epoch 38/1000\n",
      "57/65 [=========================>....] - ETA: 0s - loss: 1.8318 - accuracy: 0.3788\n",
      "Epoch 38: saving model to model/keypoint_classifier\\keypoint_classifier.hdf5\n",
      "65/65 [==============================] - 0s 6ms/step - loss: 1.8296 - accuracy: 0.3772 - val_loss: 1.3067 - val_accuracy: 0.6897\n",
      "Epoch 39/1000\n",
      "61/65 [===========================>..] - ETA: 0s - loss: 1.8061 - accuracy: 0.3843\n",
      "Epoch 39: saving model to model/keypoint_classifier\\keypoint_classifier.hdf5\n",
      "65/65 [==============================] - 0s 6ms/step - loss: 1.8018 - accuracy: 0.3843 - val_loss: 1.2943 - val_accuracy: 0.7053\n",
      "Epoch 40/1000\n",
      "64/65 [============================>.] - ETA: 0s - loss: 1.8251 - accuracy: 0.3844\n",
      "Epoch 40: saving model to model/keypoint_classifier\\keypoint_classifier.hdf5\n",
      "65/65 [==============================] - 0s 6ms/step - loss: 1.8237 - accuracy: 0.3855 - val_loss: 1.2970 - val_accuracy: 0.6963\n",
      "Epoch 41/1000\n",
      "59/65 [==========================>...] - ETA: 0s - loss: 1.8132 - accuracy: 0.3774\n",
      "Epoch 41: saving model to model/keypoint_classifier\\keypoint_classifier.hdf5\n",
      "65/65 [==============================] - 0s 6ms/step - loss: 1.8134 - accuracy: 0.3778 - val_loss: 1.2817 - val_accuracy: 0.7108\n",
      "Epoch 42/1000\n",
      "62/65 [===========================>..] - ETA: 0s - loss: 1.7837 - accuracy: 0.3925\n",
      "Epoch 42: saving model to model/keypoint_classifier\\keypoint_classifier.hdf5\n",
      "65/65 [==============================] - 0s 7ms/step - loss: 1.7838 - accuracy: 0.3917 - val_loss: 1.2734 - val_accuracy: 0.7170\n",
      "Epoch 43/1000\n",
      "63/65 [============================>.] - ETA: 0s - loss: 1.8111 - accuracy: 0.3792\n",
      "Epoch 43: saving model to model/keypoint_classifier\\keypoint_classifier.hdf5\n",
      "65/65 [==============================] - 0s 7ms/step - loss: 1.8136 - accuracy: 0.3783 - val_loss: 1.2634 - val_accuracy: 0.7224\n",
      "Epoch 44/1000\n",
      "55/65 [========================>.....] - ETA: 0s - loss: 1.7765 - accuracy: 0.3922\n",
      "Epoch 44: saving model to model/keypoint_classifier\\keypoint_classifier.hdf5\n",
      "65/65 [==============================] - 0s 6ms/step - loss: 1.7834 - accuracy: 0.3937 - val_loss: 1.2630 - val_accuracy: 0.7184\n",
      "Epoch 45/1000\n",
      "53/65 [=======================>......] - ETA: 0s - loss: 1.7842 - accuracy: 0.3803\n",
      "Epoch 45: saving model to model/keypoint_classifier\\keypoint_classifier.hdf5\n",
      "65/65 [==============================] - 0s 7ms/step - loss: 1.7838 - accuracy: 0.3809 - val_loss: 1.2676 - val_accuracy: 0.7210\n",
      "Epoch 46/1000\n",
      "56/65 [========================>.....] - ETA: 0s - loss: 1.7797 - accuracy: 0.3909\n",
      "Epoch 46: saving model to model/keypoint_classifier\\keypoint_classifier.hdf5\n",
      "65/65 [==============================] - 0s 6ms/step - loss: 1.7756 - accuracy: 0.3909 - val_loss: 1.2440 - val_accuracy: 0.7144\n",
      "Epoch 47/1000\n",
      "62/65 [===========================>..] - ETA: 0s - loss: 1.7806 - accuracy: 0.3963\n",
      "Epoch 47: saving model to model/keypoint_classifier\\keypoint_classifier.hdf5\n",
      "65/65 [==============================] - 0s 6ms/step - loss: 1.7799 - accuracy: 0.3965 - val_loss: 1.2393 - val_accuracy: 0.7366\n",
      "Epoch 48/1000\n",
      "58/65 [=========================>....] - ETA: 0s - loss: 1.7891 - accuracy: 0.3836\n",
      "Epoch 48: saving model to model/keypoint_classifier\\keypoint_classifier.hdf5\n",
      "65/65 [==============================] - 0s 7ms/step - loss: 1.7906 - accuracy: 0.3860 - val_loss: 1.2376 - val_accuracy: 0.7308\n",
      "Epoch 49/1000\n",
      "56/65 [========================>.....] - ETA: 0s - loss: 1.7527 - accuracy: 0.3944\n",
      "Epoch 49: saving model to model/keypoint_classifier\\keypoint_classifier.hdf5\n",
      "65/65 [==============================] - 0s 6ms/step - loss: 1.7579 - accuracy: 0.3914 - val_loss: 1.2392 - val_accuracy: 0.7301\n",
      "Epoch 50/1000\n",
      "53/65 [=======================>......] - ETA: 0s - loss: 1.7511 - accuracy: 0.3964\n",
      "Epoch 50: saving model to model/keypoint_classifier\\keypoint_classifier.hdf5\n",
      "65/65 [==============================] - 0s 6ms/step - loss: 1.7576 - accuracy: 0.3970 - val_loss: 1.2378 - val_accuracy: 0.7395\n",
      "Epoch 51/1000\n",
      "57/65 [=========================>....] - ETA: 0s - loss: 1.7464 - accuracy: 0.3971\n",
      "Epoch 51: saving model to model/keypoint_classifier\\keypoint_classifier.hdf5\n",
      "65/65 [==============================] - 0s 7ms/step - loss: 1.7435 - accuracy: 0.3968 - val_loss: 1.2207 - val_accuracy: 0.7519\n",
      "Epoch 52/1000\n",
      "61/65 [===========================>..] - ETA: 0s - loss: 1.7529 - accuracy: 0.3986\n",
      "Epoch 52: saving model to model/keypoint_classifier\\keypoint_classifier.hdf5\n",
      "65/65 [==============================] - 0s 5ms/step - loss: 1.7577 - accuracy: 0.3988 - val_loss: 1.2196 - val_accuracy: 0.7363\n",
      "Epoch 53/1000\n",
      "63/65 [============================>.] - ETA: 0s - loss: 1.7476 - accuracy: 0.3962\n",
      "Epoch 53: saving model to model/keypoint_classifier\\keypoint_classifier.hdf5\n",
      "65/65 [==============================] - 0s 6ms/step - loss: 1.7461 - accuracy: 0.3964 - val_loss: 1.2187 - val_accuracy: 0.7290\n",
      "Epoch 54/1000\n",
      "48/65 [=====================>........] - ETA: 0s - loss: 1.7259 - accuracy: 0.4198\n",
      "Epoch 54: saving model to model/keypoint_classifier\\keypoint_classifier.hdf5\n",
      "65/65 [==============================] - 0s 5ms/step - loss: 1.7281 - accuracy: 0.4186 - val_loss: 1.2106 - val_accuracy: 0.7548\n",
      "Epoch 55/1000\n"
     ]
    },
    {
     "name": "stdout",
     "output_type": "stream",
     "text": [
      "60/65 [==========================>...] - ETA: 0s - loss: 1.7373 - accuracy: 0.3954\n",
      "Epoch 55: saving model to model/keypoint_classifier\\keypoint_classifier.hdf5\n",
      "65/65 [==============================] - 0s 5ms/step - loss: 1.7335 - accuracy: 0.3974 - val_loss: 1.1946 - val_accuracy: 0.7465\n",
      "Epoch 56/1000\n",
      "65/65 [==============================] - ETA: 0s - loss: 1.7294 - accuracy: 0.4045\n",
      "Epoch 56: saving model to model/keypoint_classifier\\keypoint_classifier.hdf5\n",
      "65/65 [==============================] - 0s 6ms/step - loss: 1.7294 - accuracy: 0.4045 - val_loss: 1.2010 - val_accuracy: 0.7443\n",
      "Epoch 57/1000\n",
      "62/65 [===========================>..] - ETA: 0s - loss: 1.7072 - accuracy: 0.4115\n",
      "Epoch 57: saving model to model/keypoint_classifier\\keypoint_classifier.hdf5\n",
      "65/65 [==============================] - 0s 6ms/step - loss: 1.7131 - accuracy: 0.4111 - val_loss: 1.2054 - val_accuracy: 0.7352\n",
      "Epoch 58/1000\n",
      "51/65 [======================>.......] - ETA: 0s - loss: 1.7112 - accuracy: 0.4190\n",
      "Epoch 58: saving model to model/keypoint_classifier\\keypoint_classifier.hdf5\n",
      "65/65 [==============================] - 0s 5ms/step - loss: 1.7222 - accuracy: 0.4172 - val_loss: 1.1955 - val_accuracy: 0.7512\n",
      "Epoch 59/1000\n",
      "54/65 [=======================>......] - ETA: 0s - loss: 1.7082 - accuracy: 0.4243\n",
      "Epoch 59: saving model to model/keypoint_classifier\\keypoint_classifier.hdf5\n",
      "65/65 [==============================] - 0s 7ms/step - loss: 1.7108 - accuracy: 0.4217 - val_loss: 1.1842 - val_accuracy: 0.7588\n",
      "Epoch 60/1000\n",
      "53/65 [=======================>......] - ETA: 0s - loss: 1.7040 - accuracy: 0.4121\n",
      "Epoch 60: saving model to model/keypoint_classifier\\keypoint_classifier.hdf5\n",
      "65/65 [==============================] - 0s 6ms/step - loss: 1.7065 - accuracy: 0.4090 - val_loss: 1.1965 - val_accuracy: 0.7366\n",
      "Epoch 61/1000\n",
      "63/65 [============================>.] - ETA: 0s - loss: 1.7057 - accuracy: 0.4151\n",
      "Epoch 61: saving model to model/keypoint_classifier\\keypoint_classifier.hdf5\n",
      "65/65 [==============================] - 0s 6ms/step - loss: 1.7046 - accuracy: 0.4146 - val_loss: 1.1736 - val_accuracy: 0.7479\n",
      "Epoch 62/1000\n",
      "53/65 [=======================>......] - ETA: 0s - loss: 1.7206 - accuracy: 0.4161\n",
      "Epoch 62: saving model to model/keypoint_classifier\\keypoint_classifier.hdf5\n",
      "65/65 [==============================] - 0s 6ms/step - loss: 1.7198 - accuracy: 0.4154 - val_loss: 1.1699 - val_accuracy: 0.7497\n",
      "Epoch 63/1000\n",
      "60/65 [==========================>...] - ETA: 0s - loss: 1.6962 - accuracy: 0.4214\n",
      "Epoch 63: saving model to model/keypoint_classifier\\keypoint_classifier.hdf5\n",
      "65/65 [==============================] - 0s 6ms/step - loss: 1.6947 - accuracy: 0.4199 - val_loss: 1.1696 - val_accuracy: 0.7548\n",
      "Epoch 64/1000\n",
      "55/65 [========================>.....] - ETA: 0s - loss: 1.6835 - accuracy: 0.4200\n",
      "Epoch 64: saving model to model/keypoint_classifier\\keypoint_classifier.hdf5\n",
      "65/65 [==============================] - 0s 6ms/step - loss: 1.6812 - accuracy: 0.4223 - val_loss: 1.1530 - val_accuracy: 0.7468\n",
      "Epoch 65/1000\n",
      "61/65 [===========================>..] - ETA: 0s - loss: 1.6944 - accuracy: 0.4201\n",
      "Epoch 65: saving model to model/keypoint_classifier\\keypoint_classifier.hdf5\n",
      "65/65 [==============================] - 0s 8ms/step - loss: 1.6966 - accuracy: 0.4185 - val_loss: 1.1745 - val_accuracy: 0.7592\n",
      "Epoch 66/1000\n",
      "61/65 [===========================>..] - ETA: 0s - loss: 1.6774 - accuracy: 0.4242\n",
      "Epoch 66: saving model to model/keypoint_classifier\\keypoint_classifier.hdf5\n",
      "65/65 [==============================] - 0s 7ms/step - loss: 1.6806 - accuracy: 0.4233 - val_loss: 1.1703 - val_accuracy: 0.7617\n",
      "Epoch 67/1000\n",
      "61/65 [===========================>..] - ETA: 0s - loss: 1.6798 - accuracy: 0.4212\n",
      "Epoch 67: saving model to model/keypoint_classifier\\keypoint_classifier.hdf5\n",
      "65/65 [==============================] - 0s 7ms/step - loss: 1.6787 - accuracy: 0.4205 - val_loss: 1.1680 - val_accuracy: 0.7497\n",
      "Epoch 68/1000\n",
      "55/65 [========================>.....] - ETA: 0s - loss: 1.6558 - accuracy: 0.4240\n",
      "Epoch 68: saving model to model/keypoint_classifier\\keypoint_classifier.hdf5\n",
      "65/65 [==============================] - 0s 6ms/step - loss: 1.6611 - accuracy: 0.4239 - val_loss: 1.1543 - val_accuracy: 0.7494\n",
      "Epoch 69/1000\n",
      "63/65 [============================>.] - ETA: 0s - loss: 1.6755 - accuracy: 0.4236\n",
      "Epoch 69: saving model to model/keypoint_classifier\\keypoint_classifier.hdf5\n",
      "65/65 [==============================] - 0s 7ms/step - loss: 1.6758 - accuracy: 0.4229 - val_loss: 1.1385 - val_accuracy: 0.7745\n",
      "Epoch 70/1000\n",
      "59/65 [==========================>...] - ETA: 0s - loss: 1.6711 - accuracy: 0.4200\n",
      "Epoch 70: saving model to model/keypoint_classifier\\keypoint_classifier.hdf5\n",
      "65/65 [==============================] - 0s 6ms/step - loss: 1.6591 - accuracy: 0.4239 - val_loss: 1.1501 - val_accuracy: 0.7603\n",
      "Epoch 71/1000\n",
      "55/65 [========================>.....] - ETA: 0s - loss: 1.6648 - accuracy: 0.4267\n",
      "Epoch 71: saving model to model/keypoint_classifier\\keypoint_classifier.hdf5\n",
      "65/65 [==============================] - 0s 6ms/step - loss: 1.6605 - accuracy: 0.4277 - val_loss: 1.1377 - val_accuracy: 0.7530\n",
      "Epoch 72/1000\n",
      "65/65 [==============================] - ETA: 0s - loss: 1.6524 - accuracy: 0.4325\n",
      "Epoch 72: saving model to model/keypoint_classifier\\keypoint_classifier.hdf5\n",
      "65/65 [==============================] - 0s 6ms/step - loss: 1.6524 - accuracy: 0.4325 - val_loss: 1.1454 - val_accuracy: 0.7563\n",
      "Epoch 73/1000\n",
      "58/65 [=========================>....] - ETA: 0s - loss: 1.6836 - accuracy: 0.4282\n",
      "Epoch 73: saving model to model/keypoint_classifier\\keypoint_classifier.hdf5\n",
      "65/65 [==============================] - 0s 6ms/step - loss: 1.6808 - accuracy: 0.4272 - val_loss: 1.1525 - val_accuracy: 0.7621\n",
      "Epoch 74/1000\n",
      "58/65 [=========================>....] - ETA: 0s - loss: 1.6625 - accuracy: 0.4355\n",
      "Epoch 74: saving model to model/keypoint_classifier\\keypoint_classifier.hdf5\n",
      "65/65 [==============================] - 0s 6ms/step - loss: 1.6646 - accuracy: 0.4352 - val_loss: 1.1579 - val_accuracy: 0.7479\n",
      "Epoch 75/1000\n",
      "52/65 [=======================>......] - ETA: 0s - loss: 1.6418 - accuracy: 0.4375\n",
      "Epoch 75: saving model to model/keypoint_classifier\\keypoint_classifier.hdf5\n",
      "65/65 [==============================] - 0s 6ms/step - loss: 1.6494 - accuracy: 0.4356 - val_loss: 1.1387 - val_accuracy: 0.7534\n",
      "Epoch 76/1000\n",
      "63/65 [============================>.] - ETA: 0s - loss: 1.6428 - accuracy: 0.4413\n",
      "Epoch 76: saving model to model/keypoint_classifier\\keypoint_classifier.hdf5\n",
      "65/65 [==============================] - 0s 6ms/step - loss: 1.6453 - accuracy: 0.4399 - val_loss: 1.1254 - val_accuracy: 0.7650\n",
      "Epoch 77/1000\n",
      "54/65 [=======================>......] - ETA: 0s - loss: 1.6418 - accuracy: 0.4285\n",
      "Epoch 77: saving model to model/keypoint_classifier\\keypoint_classifier.hdf5\n",
      "65/65 [==============================] - 0s 6ms/step - loss: 1.6450 - accuracy: 0.4297 - val_loss: 1.1408 - val_accuracy: 0.7603\n",
      "Epoch 78/1000\n",
      "57/65 [=========================>....] - ETA: 0s - loss: 1.6390 - accuracy: 0.4279\n",
      "Epoch 78: saving model to model/keypoint_classifier\\keypoint_classifier.hdf5\n",
      "65/65 [==============================] - 0s 6ms/step - loss: 1.6403 - accuracy: 0.4285 - val_loss: 1.1270 - val_accuracy: 0.7486\n",
      "Epoch 79/1000\n",
      "59/65 [==========================>...] - ETA: 0s - loss: 1.6467 - accuracy: 0.4354\n",
      "Epoch 79: saving model to model/keypoint_classifier\\keypoint_classifier.hdf5\n",
      "65/65 [==============================] - 0s 6ms/step - loss: 1.6435 - accuracy: 0.4368 - val_loss: 1.1308 - val_accuracy: 0.7792\n",
      "Epoch 80/1000\n",
      "59/65 [==========================>...] - ETA: 0s - loss: 1.6446 - accuracy: 0.4384\n",
      "Epoch 80: saving model to model/keypoint_classifier\\keypoint_classifier.hdf5\n",
      "65/65 [==============================] - 0s 6ms/step - loss: 1.6406 - accuracy: 0.4369 - val_loss: 1.1331 - val_accuracy: 0.7475\n",
      "Epoch 81/1000\n",
      "52/65 [=======================>......] - ETA: 0s - loss: 1.6445 - accuracy: 0.4363\n",
      "Epoch 81: saving model to model/keypoint_classifier\\keypoint_classifier.hdf5\n",
      "65/65 [==============================] - 0s 6ms/step - loss: 1.6511 - accuracy: 0.4362 - val_loss: 1.1199 - val_accuracy: 0.7679\n",
      "Epoch 82/1000\n"
     ]
    },
    {
     "name": "stdout",
     "output_type": "stream",
     "text": [
      "57/65 [=========================>....] - ETA: 0s - loss: 1.6306 - accuracy: 0.4357\n",
      "Epoch 82: saving model to model/keypoint_classifier\\keypoint_classifier.hdf5\n",
      "65/65 [==============================] - 0s 6ms/step - loss: 1.6257 - accuracy: 0.4346 - val_loss: 1.1178 - val_accuracy: 0.7716\n",
      "Epoch 83/1000\n",
      "46/65 [====================>.........] - ETA: 0s - loss: 1.6302 - accuracy: 0.4358\n",
      "Epoch 83: saving model to model/keypoint_classifier\\keypoint_classifier.hdf5\n",
      "65/65 [==============================] - 0s 4ms/step - loss: 1.6339 - accuracy: 0.4368 - val_loss: 1.1282 - val_accuracy: 0.7683\n",
      "Epoch 84/1000\n",
      "61/65 [===========================>..] - ETA: 0s - loss: 1.6108 - accuracy: 0.4468\n",
      "Epoch 84: saving model to model/keypoint_classifier\\keypoint_classifier.hdf5\n",
      "65/65 [==============================] - 0s 6ms/step - loss: 1.6130 - accuracy: 0.4449 - val_loss: 1.1237 - val_accuracy: 0.7770\n",
      "Epoch 85/1000\n",
      "65/65 [==============================] - ETA: 0s - loss: 1.6204 - accuracy: 0.4426\n",
      "Epoch 85: saving model to model/keypoint_classifier\\keypoint_classifier.hdf5\n",
      "65/65 [==============================] - 0s 5ms/step - loss: 1.6204 - accuracy: 0.4426 - val_loss: 1.1210 - val_accuracy: 0.7570\n",
      "Epoch 86/1000\n",
      "60/65 [==========================>...] - ETA: 0s - loss: 1.6062 - accuracy: 0.4426\n",
      "Epoch 86: saving model to model/keypoint_classifier\\keypoint_classifier.hdf5\n",
      "65/65 [==============================] - 0s 4ms/step - loss: 1.6129 - accuracy: 0.4420 - val_loss: 1.1068 - val_accuracy: 0.7894\n",
      "Epoch 87/1000\n",
      "65/65 [==============================] - ETA: 0s - loss: 1.6248 - accuracy: 0.4473\n",
      "Epoch 87: saving model to model/keypoint_classifier\\keypoint_classifier.hdf5\n",
      "65/65 [==============================] - 0s 4ms/step - loss: 1.6248 - accuracy: 0.4473 - val_loss: 1.1204 - val_accuracy: 0.7774\n",
      "Epoch 88/1000\n",
      "57/65 [=========================>....] - ETA: 0s - loss: 1.6451 - accuracy: 0.4298\n",
      "Epoch 88: saving model to model/keypoint_classifier\\keypoint_classifier.hdf5\n",
      "65/65 [==============================] - 0s 4ms/step - loss: 1.6337 - accuracy: 0.4328 - val_loss: 1.1063 - val_accuracy: 0.7836\n",
      "Epoch 89/1000\n",
      "46/65 [====================>.........] - ETA: 0s - loss: 1.6123 - accuracy: 0.4380\n",
      "Epoch 89: saving model to model/keypoint_classifier\\keypoint_classifier.hdf5\n",
      "65/65 [==============================] - 0s 3ms/step - loss: 1.6107 - accuracy: 0.4409 - val_loss: 1.1238 - val_accuracy: 0.7712\n",
      "Epoch 90/1000\n",
      "58/65 [=========================>....] - ETA: 0s - loss: 1.6003 - accuracy: 0.4555\n",
      "Epoch 90: saving model to model/keypoint_classifier\\keypoint_classifier.hdf5\n",
      "65/65 [==============================] - 0s 5ms/step - loss: 1.5998 - accuracy: 0.4548 - val_loss: 1.1257 - val_accuracy: 0.7745\n",
      "Epoch 91/1000\n",
      "62/65 [===========================>..] - ETA: 0s - loss: 1.6145 - accuracy: 0.4448\n",
      "Epoch 91: saving model to model/keypoint_classifier\\keypoint_classifier.hdf5\n",
      "65/65 [==============================] - 1s 10ms/step - loss: 1.6116 - accuracy: 0.4450 - val_loss: 1.1147 - val_accuracy: 0.7777\n",
      "Epoch 92/1000\n",
      "64/65 [============================>.] - ETA: 0s - loss: 1.6058 - accuracy: 0.4545\n",
      "Epoch 92: saving model to model/keypoint_classifier\\keypoint_classifier.hdf5\n",
      "65/65 [==============================] - 0s 7ms/step - loss: 1.6052 - accuracy: 0.4541 - val_loss: 1.1032 - val_accuracy: 0.7828\n",
      "Epoch 93/1000\n",
      "63/65 [============================>.] - ETA: 0s - loss: 1.5868 - accuracy: 0.4484\n",
      "Epoch 93: saving model to model/keypoint_classifier\\keypoint_classifier.hdf5\n",
      "65/65 [==============================] - 0s 7ms/step - loss: 1.5881 - accuracy: 0.4482 - val_loss: 1.1166 - val_accuracy: 0.7792\n",
      "Epoch 94/1000\n",
      "65/65 [==============================] - ETA: 0s - loss: 1.5954 - accuracy: 0.4488\n",
      "Epoch 94: saving model to model/keypoint_classifier\\keypoint_classifier.hdf5\n",
      "65/65 [==============================] - 0s 6ms/step - loss: 1.5954 - accuracy: 0.4488 - val_loss: 1.1048 - val_accuracy: 0.7890\n",
      "Epoch 95/1000\n",
      "58/65 [=========================>....] - ETA: 0s - loss: 1.6366 - accuracy: 0.4422\n",
      "Epoch 95: saving model to model/keypoint_classifier\\keypoint_classifier.hdf5\n",
      "65/65 [==============================] - 1s 10ms/step - loss: 1.6291 - accuracy: 0.4444 - val_loss: 1.1074 - val_accuracy: 0.7661\n",
      "Epoch 96/1000\n",
      "51/65 [======================>.......] - ETA: 0s - loss: 1.6133 - accuracy: 0.4491\n",
      "Epoch 96: saving model to model/keypoint_classifier\\keypoint_classifier.hdf5\n",
      "65/65 [==============================] - 0s 6ms/step - loss: 1.6217 - accuracy: 0.4470 - val_loss: 1.0989 - val_accuracy: 0.7868\n",
      "Epoch 97/1000\n",
      "63/65 [============================>.] - ETA: 0s - loss: 1.5987 - accuracy: 0.4559\n",
      "Epoch 97: saving model to model/keypoint_classifier\\keypoint_classifier.hdf5\n",
      "65/65 [==============================] - 1s 10ms/step - loss: 1.5978 - accuracy: 0.4547 - val_loss: 1.1037 - val_accuracy: 0.7843\n",
      "Epoch 98/1000\n",
      "64/65 [============================>.] - ETA: 0s - loss: 1.5796 - accuracy: 0.4580\n",
      "Epoch 98: saving model to model/keypoint_classifier\\keypoint_classifier.hdf5\n",
      "65/65 [==============================] - 1s 8ms/step - loss: 1.5804 - accuracy: 0.4571 - val_loss: 1.1002 - val_accuracy: 0.7803\n",
      "Epoch 99/1000\n",
      "59/65 [==========================>...] - ETA: 0s - loss: 1.5940 - accuracy: 0.4555\n",
      "Epoch 99: saving model to model/keypoint_classifier\\keypoint_classifier.hdf5\n",
      "65/65 [==============================] - 1s 11ms/step - loss: 1.5935 - accuracy: 0.4559 - val_loss: 1.1061 - val_accuracy: 0.7792\n",
      "Epoch 100/1000\n",
      "57/65 [=========================>....] - ETA: 0s - loss: 1.5848 - accuracy: 0.4615\n",
      "Epoch 100: saving model to model/keypoint_classifier\\keypoint_classifier.hdf5\n",
      "65/65 [==============================] - 1s 13ms/step - loss: 1.5838 - accuracy: 0.4621 - val_loss: 1.1021 - val_accuracy: 0.7803\n",
      "Epoch 101/1000\n",
      "58/65 [=========================>....] - ETA: 0s - loss: 1.5868 - accuracy: 0.4597\n",
      "Epoch 101: saving model to model/keypoint_classifier\\keypoint_classifier.hdf5\n",
      "65/65 [==============================] - 1s 12ms/step - loss: 1.5875 - accuracy: 0.4611 - val_loss: 1.0937 - val_accuracy: 0.7839\n",
      "Epoch 102/1000\n",
      "65/65 [==============================] - ETA: 0s - loss: 1.5732 - accuracy: 0.4628\n",
      "Epoch 102: saving model to model/keypoint_classifier\\keypoint_classifier.hdf5\n",
      "65/65 [==============================] - 1s 10ms/step - loss: 1.5732 - accuracy: 0.4628 - val_loss: 1.0969 - val_accuracy: 0.7799\n",
      "Epoch 103/1000\n",
      "61/65 [===========================>..] - ETA: 0s - loss: 1.5755 - accuracy: 0.4616\n",
      "Epoch 103: saving model to model/keypoint_classifier\\keypoint_classifier.hdf5\n",
      "65/65 [==============================] - 1s 12ms/step - loss: 1.5804 - accuracy: 0.4594 - val_loss: 1.0927 - val_accuracy: 0.7759\n",
      "Epoch 104/1000\n",
      "57/65 [=========================>....] - ETA: 0s - loss: 1.5822 - accuracy: 0.4578\n",
      "Epoch 104: saving model to model/keypoint_classifier\\keypoint_classifier.hdf5\n",
      "65/65 [==============================] - 1s 10ms/step - loss: 1.5817 - accuracy: 0.4588 - val_loss: 1.1008 - val_accuracy: 0.7832\n",
      "Epoch 105/1000\n",
      "59/65 [==========================>...] - ETA: 0s - loss: 1.5668 - accuracy: 0.4570\n",
      "Epoch 105: saving model to model/keypoint_classifier\\keypoint_classifier.hdf5\n",
      "65/65 [==============================] - 1s 9ms/step - loss: 1.5631 - accuracy: 0.4574 - val_loss: 1.0735 - val_accuracy: 0.7781\n",
      "Epoch 106/1000\n",
      "60/65 [==========================>...] - ETA: 0s - loss: 1.5607 - accuracy: 0.4621\n",
      "Epoch 106: saving model to model/keypoint_classifier\\keypoint_classifier.hdf5\n",
      "65/65 [==============================] - 1s 13ms/step - loss: 1.5576 - accuracy: 0.4647 - val_loss: 1.0942 - val_accuracy: 0.7876\n",
      "Epoch 107/1000\n",
      "65/65 [==============================] - ETA: 0s - loss: 1.5678 - accuracy: 0.4660\n",
      "Epoch 107: saving model to model/keypoint_classifier\\keypoint_classifier.hdf5\n",
      "65/65 [==============================] - 1s 14ms/step - loss: 1.5678 - accuracy: 0.4660 - val_loss: 1.0908 - val_accuracy: 0.7745\n",
      "Epoch 108/1000\n",
      "57/65 [=========================>....] - ETA: 0s - loss: 1.5824 - accuracy: 0.4646\n",
      "Epoch 108: saving model to model/keypoint_classifier\\keypoint_classifier.hdf5\n",
      "65/65 [==============================] - 0s 7ms/step - loss: 1.5781 - accuracy: 0.4657 - val_loss: 1.0797 - val_accuracy: 0.7839\n"
     ]
    },
    {
     "name": "stdout",
     "output_type": "stream",
     "text": [
      "Epoch 109/1000\n",
      "58/65 [=========================>....] - ETA: 0s - loss: 1.5758 - accuracy: 0.4648\n",
      "Epoch 109: saving model to model/keypoint_classifier\\keypoint_classifier.hdf5\n",
      "65/65 [==============================] - 1s 9ms/step - loss: 1.5747 - accuracy: 0.4650 - val_loss: 1.0767 - val_accuracy: 0.7919\n",
      "Epoch 110/1000\n",
      "54/65 [=======================>......] - ETA: 0s - loss: 1.5711 - accuracy: 0.4648\n",
      "Epoch 110: saving model to model/keypoint_classifier\\keypoint_classifier.hdf5\n",
      "65/65 [==============================] - 0s 6ms/step - loss: 1.5730 - accuracy: 0.4615 - val_loss: 1.0853 - val_accuracy: 0.7857\n",
      "Epoch 111/1000\n",
      "61/65 [===========================>..] - ETA: 0s - loss: 1.5797 - accuracy: 0.4635\n",
      "Epoch 111: saving model to model/keypoint_classifier\\keypoint_classifier.hdf5\n",
      "65/65 [==============================] - 0s 6ms/step - loss: 1.5770 - accuracy: 0.4644 - val_loss: 1.0874 - val_accuracy: 0.7661\n",
      "Epoch 112/1000\n",
      "62/65 [===========================>..] - ETA: 0s - loss: 1.5717 - accuracy: 0.4616\n",
      "Epoch 112: saving model to model/keypoint_classifier\\keypoint_classifier.hdf5\n",
      "65/65 [==============================] - 1s 9ms/step - loss: 1.5740 - accuracy: 0.4620 - val_loss: 1.1006 - val_accuracy: 0.7763\n",
      "Epoch 113/1000\n",
      "61/65 [===========================>..] - ETA: 0s - loss: 1.5755 - accuracy: 0.4589\n",
      "Epoch 113: saving model to model/keypoint_classifier\\keypoint_classifier.hdf5\n",
      "65/65 [==============================] - 0s 7ms/step - loss: 1.5723 - accuracy: 0.4592 - val_loss: 1.0971 - val_accuracy: 0.7741\n",
      "Epoch 114/1000\n",
      "58/65 [=========================>....] - ETA: 0s - loss: 1.5846 - accuracy: 0.4489\n",
      "Epoch 114: saving model to model/keypoint_classifier\\keypoint_classifier.hdf5\n",
      "65/65 [==============================] - 0s 6ms/step - loss: 1.5825 - accuracy: 0.4500 - val_loss: 1.0715 - val_accuracy: 0.7806\n",
      "Epoch 115/1000\n",
      "59/65 [==========================>...] - ETA: 0s - loss: 1.5440 - accuracy: 0.4680\n",
      "Epoch 115: saving model to model/keypoint_classifier\\keypoint_classifier.hdf5\n",
      "65/65 [==============================] - 0s 6ms/step - loss: 1.5426 - accuracy: 0.4689 - val_loss: 1.0600 - val_accuracy: 0.7661\n",
      "Epoch 116/1000\n",
      "54/65 [=======================>......] - ETA: 0s - loss: 1.5606 - accuracy: 0.4630\n",
      "Epoch 116: saving model to model/keypoint_classifier\\keypoint_classifier.hdf5\n",
      "65/65 [==============================] - 1s 8ms/step - loss: 1.5555 - accuracy: 0.4633 - val_loss: 1.0823 - val_accuracy: 0.7817\n",
      "Epoch 117/1000\n",
      "57/65 [=========================>....] - ETA: 0s - loss: 1.5782 - accuracy: 0.4640\n",
      "Epoch 117: saving model to model/keypoint_classifier\\keypoint_classifier.hdf5\n",
      "65/65 [==============================] - 1s 10ms/step - loss: 1.5770 - accuracy: 0.4653 - val_loss: 1.0860 - val_accuracy: 0.7734\n",
      "Epoch 118/1000\n",
      "59/65 [==========================>...] - ETA: 0s - loss: 1.5542 - accuracy: 0.4699\n",
      "Epoch 118: saving model to model/keypoint_classifier\\keypoint_classifier.hdf5\n",
      "65/65 [==============================] - 1s 10ms/step - loss: 1.5480 - accuracy: 0.4710 - val_loss: 1.0800 - val_accuracy: 0.7766\n",
      "Epoch 119/1000\n",
      "63/65 [============================>.] - ETA: 0s - loss: 1.5597 - accuracy: 0.4681\n",
      "Epoch 119: saving model to model/keypoint_classifier\\keypoint_classifier.hdf5\n",
      "65/65 [==============================] - 1s 8ms/step - loss: 1.5612 - accuracy: 0.4678 - val_loss: 1.0832 - val_accuracy: 0.7745\n",
      "Epoch 120/1000\n",
      "55/65 [========================>.....] - ETA: 0s - loss: 1.5613 - accuracy: 0.4692\n",
      "Epoch 120: saving model to model/keypoint_classifier\\keypoint_classifier.hdf5\n",
      "65/65 [==============================] - 1s 10ms/step - loss: 1.5557 - accuracy: 0.4688 - val_loss: 1.0709 - val_accuracy: 0.7872\n",
      "Epoch 121/1000\n",
      "56/65 [========================>.....] - ETA: 0s - loss: 1.5485 - accuracy: 0.4736\n",
      "Epoch 121: saving model to model/keypoint_classifier\\keypoint_classifier.hdf5\n",
      "65/65 [==============================] - 1s 11ms/step - loss: 1.5460 - accuracy: 0.4735 - val_loss: 1.0692 - val_accuracy: 0.7803\n",
      "Epoch 122/1000\n",
      "64/65 [============================>.] - ETA: 0s - loss: 1.5628 - accuracy: 0.4629\n",
      "Epoch 122: saving model to model/keypoint_classifier\\keypoint_classifier.hdf5\n",
      "65/65 [==============================] - 1s 9ms/step - loss: 1.5622 - accuracy: 0.4631 - val_loss: 1.0689 - val_accuracy: 0.7716\n",
      "Epoch 123/1000\n",
      "65/65 [==============================] - ETA: 0s - loss: 1.5321 - accuracy: 0.4791\n",
      "Epoch 123: saving model to model/keypoint_classifier\\keypoint_classifier.hdf5\n",
      "65/65 [==============================] - 0s 7ms/step - loss: 1.5321 - accuracy: 0.4791 - val_loss: 1.0684 - val_accuracy: 0.7723\n",
      "Epoch 124/1000\n",
      "63/65 [============================>.] - ETA: 0s - loss: 1.5535 - accuracy: 0.4723\n",
      "Epoch 124: saving model to model/keypoint_classifier\\keypoint_classifier.hdf5\n",
      "65/65 [==============================] - 1s 11ms/step - loss: 1.5553 - accuracy: 0.4718 - val_loss: 1.0740 - val_accuracy: 0.7901\n",
      "Epoch 125/1000\n",
      "57/65 [=========================>....] - ETA: 0s - loss: 1.5371 - accuracy: 0.4723\n",
      "Epoch 125: saving model to model/keypoint_classifier\\keypoint_classifier.hdf5\n",
      "65/65 [==============================] - 1s 10ms/step - loss: 1.5379 - accuracy: 0.4748 - val_loss: 1.0683 - val_accuracy: 0.7745\n",
      "Epoch 126/1000\n",
      "56/65 [========================>.....] - ETA: 0s - loss: 1.5428 - accuracy: 0.4729\n",
      "Epoch 126: saving model to model/keypoint_classifier\\keypoint_classifier.hdf5\n",
      "65/65 [==============================] - 1s 19ms/step - loss: 1.5386 - accuracy: 0.4752 - val_loss: 1.0680 - val_accuracy: 0.7836\n",
      "Epoch 127/1000\n",
      "61/65 [===========================>..] - ETA: 0s - loss: 1.5407 - accuracy: 0.4771\n",
      "Epoch 127: saving model to model/keypoint_classifier\\keypoint_classifier.hdf5\n",
      "65/65 [==============================] - 1s 10ms/step - loss: 1.5316 - accuracy: 0.4770 - val_loss: 1.0662 - val_accuracy: 0.7752\n",
      "Epoch 128/1000\n",
      "58/65 [=========================>....] - ETA: 0s - loss: 1.5300 - accuracy: 0.4787\n",
      "Epoch 128: saving model to model/keypoint_classifier\\keypoint_classifier.hdf5\n",
      "65/65 [==============================] - 0s 6ms/step - loss: 1.5399 - accuracy: 0.4733 - val_loss: 1.0814 - val_accuracy: 0.7868\n",
      "Epoch 129/1000\n",
      "60/65 [==========================>...] - ETA: 0s - loss: 1.5548 - accuracy: 0.4730\n",
      "Epoch 129: saving model to model/keypoint_classifier\\keypoint_classifier.hdf5\n",
      "65/65 [==============================] - 1s 10ms/step - loss: 1.5557 - accuracy: 0.4721 - val_loss: 1.0751 - val_accuracy: 0.7817\n",
      "Epoch 130/1000\n",
      "57/65 [=========================>....] - ETA: 0s - loss: 1.5490 - accuracy: 0.4775\n",
      "Epoch 130: saving model to model/keypoint_classifier\\keypoint_classifier.hdf5\n",
      "65/65 [==============================] - 1s 11ms/step - loss: 1.5530 - accuracy: 0.4752 - val_loss: 1.0766 - val_accuracy: 0.7734\n",
      "Epoch 131/1000\n",
      "63/65 [============================>.] - ETA: 0s - loss: 1.5318 - accuracy: 0.4726\n",
      "Epoch 131: saving model to model/keypoint_classifier\\keypoint_classifier.hdf5\n",
      "65/65 [==============================] - 1s 9ms/step - loss: 1.5324 - accuracy: 0.4729 - val_loss: 1.0641 - val_accuracy: 0.7763\n",
      "Epoch 132/1000\n",
      "64/65 [============================>.] - ETA: 0s - loss: 1.5219 - accuracy: 0.4797\n",
      "Epoch 132: saving model to model/keypoint_classifier\\keypoint_classifier.hdf5\n",
      "65/65 [==============================] - 0s 8ms/step - loss: 1.5222 - accuracy: 0.4791 - val_loss: 1.0582 - val_accuracy: 0.7806\n",
      "Epoch 133/1000\n",
      "55/65 [========================>.....] - ETA: 0s - loss: 1.5303 - accuracy: 0.4750\n",
      "Epoch 133: saving model to model/keypoint_classifier\\keypoint_classifier.hdf5\n",
      "65/65 [==============================] - 1s 8ms/step - loss: 1.5315 - accuracy: 0.4761 - val_loss: 1.0619 - val_accuracy: 0.7930\n",
      "Epoch 134/1000\n",
      "58/65 [=========================>....] - ETA: 0s - loss: 1.5306 - accuracy: 0.4778\n",
      "Epoch 134: saving model to model/keypoint_classifier\\keypoint_classifier.hdf5\n",
      "65/65 [==============================] - 0s 6ms/step - loss: 1.5258 - accuracy: 0.4771 - val_loss: 1.0668 - val_accuracy: 0.7770\n",
      "Epoch 135/1000\n",
      "60/65 [==========================>...] - ETA: 0s - loss: 1.5348 - accuracy: 0.4794\n",
      "Epoch 135: saving model to model/keypoint_classifier\\keypoint_classifier.hdf5\n",
      "65/65 [==============================] - 0s 7ms/step - loss: 1.5353 - accuracy: 0.4802 - val_loss: 1.0778 - val_accuracy: 0.7643\n"
     ]
    },
    {
     "name": "stdout",
     "output_type": "stream",
     "text": [
      "Epoch 136/1000\n",
      "59/65 [==========================>...] - ETA: 0s - loss: 1.5401 - accuracy: 0.4698\n",
      "Epoch 136: saving model to model/keypoint_classifier\\keypoint_classifier.hdf5\n",
      "65/65 [==============================] - 1s 8ms/step - loss: 1.5403 - accuracy: 0.4706 - val_loss: 1.0637 - val_accuracy: 0.7796\n",
      "Epoch 137/1000\n",
      "59/65 [==========================>...] - ETA: 0s - loss: 1.5330 - accuracy: 0.4705\n",
      "Epoch 137: saving model to model/keypoint_classifier\\keypoint_classifier.hdf5\n",
      "65/65 [==============================] - 1s 10ms/step - loss: 1.5401 - accuracy: 0.4719 - val_loss: 1.0727 - val_accuracy: 0.7716\n",
      "Epoch 138/1000\n",
      "65/65 [==============================] - ETA: 0s - loss: 1.5399 - accuracy: 0.4747\n",
      "Epoch 138: saving model to model/keypoint_classifier\\keypoint_classifier.hdf5\n",
      "65/65 [==============================] - 1s 8ms/step - loss: 1.5399 - accuracy: 0.4747 - val_loss: 1.0749 - val_accuracy: 0.7781\n",
      "Epoch 139/1000\n",
      "54/65 [=======================>......] - ETA: 0s - loss: 1.5373 - accuracy: 0.4789\n",
      "Epoch 139: saving model to model/keypoint_classifier\\keypoint_classifier.hdf5\n",
      "65/65 [==============================] - 1s 9ms/step - loss: 1.5417 - accuracy: 0.4770 - val_loss: 1.0480 - val_accuracy: 0.7716\n",
      "Epoch 140/1000\n",
      "64/65 [============================>.] - ETA: 0s - loss: 1.5225 - accuracy: 0.4689\n",
      "Epoch 140: saving model to model/keypoint_classifier\\keypoint_classifier.hdf5\n",
      "65/65 [==============================] - 1s 10ms/step - loss: 1.5230 - accuracy: 0.4685 - val_loss: 1.0673 - val_accuracy: 0.7745\n",
      "Epoch 141/1000\n",
      "55/65 [========================>.....] - ETA: 0s - loss: 1.5175 - accuracy: 0.4800\n",
      "Epoch 141: saving model to model/keypoint_classifier\\keypoint_classifier.hdf5\n",
      "65/65 [==============================] - 1s 8ms/step - loss: 1.5213 - accuracy: 0.4791 - val_loss: 1.0597 - val_accuracy: 0.7883\n",
      "Epoch 142/1000\n",
      "61/65 [===========================>..] - ETA: 0s - loss: 1.5343 - accuracy: 0.4753\n",
      "Epoch 142: saving model to model/keypoint_classifier\\keypoint_classifier.hdf5\n",
      "65/65 [==============================] - 1s 9ms/step - loss: 1.5358 - accuracy: 0.4753 - val_loss: 1.0525 - val_accuracy: 0.7803\n",
      "Epoch 143/1000\n",
      "60/65 [==========================>...] - ETA: 0s - loss: 1.5467 - accuracy: 0.4757\n",
      "Epoch 143: saving model to model/keypoint_classifier\\keypoint_classifier.hdf5\n",
      "65/65 [==============================] - 1s 9ms/step - loss: 1.5416 - accuracy: 0.4773 - val_loss: 1.0687 - val_accuracy: 0.7734\n",
      "Epoch 144/1000\n",
      "65/65 [==============================] - ETA: 0s - loss: 1.5146 - accuracy: 0.4870\n",
      "Epoch 144: saving model to model/keypoint_classifier\\keypoint_classifier.hdf5\n",
      "65/65 [==============================] - 1s 11ms/step - loss: 1.5146 - accuracy: 0.4870 - val_loss: 1.0696 - val_accuracy: 0.7908\n",
      "Epoch 145/1000\n",
      "60/65 [==========================>...] - ETA: 0s - loss: 1.4990 - accuracy: 0.4867\n",
      "Epoch 145: saving model to model/keypoint_classifier\\keypoint_classifier.hdf5\n",
      "65/65 [==============================] - 1s 12ms/step - loss: 1.5009 - accuracy: 0.4870 - val_loss: 1.0467 - val_accuracy: 0.7934\n",
      "Epoch 146/1000\n",
      "65/65 [==============================] - ETA: 0s - loss: 1.5214 - accuracy: 0.4853\n",
      "Epoch 146: saving model to model/keypoint_classifier\\keypoint_classifier.hdf5\n",
      "65/65 [==============================] - 1s 9ms/step - loss: 1.5214 - accuracy: 0.4853 - val_loss: 1.0518 - val_accuracy: 0.7726\n",
      "Epoch 147/1000\n",
      "60/65 [==========================>...] - ETA: 0s - loss: 1.5100 - accuracy: 0.4836\n",
      "Epoch 147: saving model to model/keypoint_classifier\\keypoint_classifier.hdf5\n",
      "65/65 [==============================] - 1s 8ms/step - loss: 1.5024 - accuracy: 0.4854 - val_loss: 1.0494 - val_accuracy: 0.7810\n",
      "Epoch 148/1000\n",
      "63/65 [============================>.] - ETA: 0s - loss: 1.4954 - accuracy: 0.4926\n",
      "Epoch 148: saving model to model/keypoint_classifier\\keypoint_classifier.hdf5\n",
      "65/65 [==============================] - 0s 7ms/step - loss: 1.4934 - accuracy: 0.4928 - val_loss: 1.0523 - val_accuracy: 0.7766\n",
      "Epoch 149/1000\n",
      "57/65 [=========================>....] - ETA: 0s - loss: 1.5214 - accuracy: 0.4845\n",
      "Epoch 149: saving model to model/keypoint_classifier\\keypoint_classifier.hdf5\n",
      "65/65 [==============================] - 1s 8ms/step - loss: 1.5245 - accuracy: 0.4809 - val_loss: 1.0693 - val_accuracy: 0.7759\n",
      "Epoch 150/1000\n",
      "56/65 [========================>.....] - ETA: 0s - loss: 1.5325 - accuracy: 0.4757\n",
      "Epoch 150: saving model to model/keypoint_classifier\\keypoint_classifier.hdf5\n",
      "65/65 [==============================] - 1s 9ms/step - loss: 1.5242 - accuracy: 0.4791 - val_loss: 1.0815 - val_accuracy: 0.7661\n",
      "Epoch 151/1000\n",
      "63/65 [============================>.] - ETA: 0s - loss: 1.4987 - accuracy: 0.4880\n",
      "Epoch 151: saving model to model/keypoint_classifier\\keypoint_classifier.hdf5\n",
      "65/65 [==============================] - 0s 7ms/step - loss: 1.4982 - accuracy: 0.4881 - val_loss: 1.0485 - val_accuracy: 0.7905\n",
      "Epoch 152/1000\n",
      "54/65 [=======================>......] - ETA: 0s - loss: 1.5094 - accuracy: 0.4761\n",
      "Epoch 152: saving model to model/keypoint_classifier\\keypoint_classifier.hdf5\n",
      "65/65 [==============================] - 0s 6ms/step - loss: 1.5075 - accuracy: 0.4771 - val_loss: 1.0616 - val_accuracy: 0.7887\n",
      "Epoch 153/1000\n",
      "57/65 [=========================>....] - ETA: 0s - loss: 1.4869 - accuracy: 0.4933\n",
      "Epoch 153: saving model to model/keypoint_classifier\\keypoint_classifier.hdf5\n",
      "65/65 [==============================] - 0s 6ms/step - loss: 1.4929 - accuracy: 0.4923 - val_loss: 1.0491 - val_accuracy: 0.7745\n",
      "Epoch 154/1000\n",
      "58/65 [=========================>....] - ETA: 0s - loss: 1.5261 - accuracy: 0.4786\n",
      "Epoch 154: saving model to model/keypoint_classifier\\keypoint_classifier.hdf5\n",
      "65/65 [==============================] - 1s 13ms/step - loss: 1.5250 - accuracy: 0.4803 - val_loss: 1.0624 - val_accuracy: 0.7836\n",
      "Epoch 155/1000\n",
      "57/65 [=========================>....] - ETA: 0s - loss: 1.5230 - accuracy: 0.4842\n",
      "Epoch 155: saving model to model/keypoint_classifier\\keypoint_classifier.hdf5\n",
      "65/65 [==============================] - 0s 7ms/step - loss: 1.5220 - accuracy: 0.4832 - val_loss: 1.0666 - val_accuracy: 0.7741\n",
      "Epoch 156/1000\n",
      "64/65 [============================>.] - ETA: 0s - loss: 1.5130 - accuracy: 0.4828\n",
      "Epoch 156: saving model to model/keypoint_classifier\\keypoint_classifier.hdf5\n",
      "65/65 [==============================] - 1s 9ms/step - loss: 1.5116 - accuracy: 0.4830 - val_loss: 1.0744 - val_accuracy: 0.7581\n",
      "Epoch 157/1000\n",
      "55/65 [========================>.....] - ETA: 0s - loss: 1.5191 - accuracy: 0.4824\n",
      "Epoch 157: saving model to model/keypoint_classifier\\keypoint_classifier.hdf5\n",
      "65/65 [==============================] - 0s 7ms/step - loss: 1.5149 - accuracy: 0.4827 - val_loss: 1.0667 - val_accuracy: 0.7879\n",
      "Epoch 158/1000\n",
      "47/65 [====================>.........] - ETA: 0s - loss: 1.5078 - accuracy: 0.4890\n",
      "Epoch 158: saving model to model/keypoint_classifier\\keypoint_classifier.hdf5\n",
      "65/65 [==============================] - 0s 4ms/step - loss: 1.5188 - accuracy: 0.4813 - val_loss: 1.0608 - val_accuracy: 0.7806\n",
      "Epoch 159/1000\n",
      "46/65 [====================>.........] - ETA: 0s - loss: 1.5038 - accuracy: 0.4905\n",
      "Epoch 159: saving model to model/keypoint_classifier\\keypoint_classifier.hdf5\n",
      "65/65 [==============================] - 0s 4ms/step - loss: 1.4966 - accuracy: 0.4933 - val_loss: 1.0489 - val_accuracy: 0.7708\n",
      "Epoch 160/1000\n",
      "46/65 [====================>.........] - ETA: 0s - loss: 1.5269 - accuracy: 0.4766\n",
      "Epoch 160: saving model to model/keypoint_classifier\\keypoint_classifier.hdf5\n",
      "65/65 [==============================] - 0s 3ms/step - loss: 1.5107 - accuracy: 0.4831 - val_loss: 1.0749 - val_accuracy: 0.7810\n",
      "Epoch 161/1000\n",
      "62/65 [===========================>..] - ETA: 0s - loss: 1.4938 - accuracy: 0.4883\n",
      "Epoch 161: saving model to model/keypoint_classifier\\keypoint_classifier.hdf5\n",
      "65/65 [==============================] - 0s 4ms/step - loss: 1.4962 - accuracy: 0.4870 - val_loss: 1.0710 - val_accuracy: 0.7806\n",
      "Epoch 162/1000\n",
      "62/65 [===========================>..] - ETA: 0s - loss: 1.4903 - accuracy: 0.4948\n",
      "Epoch 162: saving model to model/keypoint_classifier\\keypoint_classifier.hdf5\n",
      "65/65 [==============================] - 0s 4ms/step - loss: 1.4916 - accuracy: 0.4950 - val_loss: 1.0536 - val_accuracy: 0.7890\n"
     ]
    },
    {
     "name": "stdout",
     "output_type": "stream",
     "text": [
      "Epoch 163/1000\n",
      "62/65 [===========================>..] - ETA: 0s - loss: 1.4913 - accuracy: 0.4923\n",
      "Epoch 163: saving model to model/keypoint_classifier\\keypoint_classifier.hdf5\n",
      "65/65 [==============================] - 0s 4ms/step - loss: 1.4915 - accuracy: 0.4924 - val_loss: 1.0553 - val_accuracy: 0.7981\n",
      "Epoch 164/1000\n",
      "60/65 [==========================>...] - ETA: 0s - loss: 1.4943 - accuracy: 0.4902\n",
      "Epoch 164: saving model to model/keypoint_classifier\\keypoint_classifier.hdf5\n",
      "65/65 [==============================] - 0s 4ms/step - loss: 1.4979 - accuracy: 0.4891 - val_loss: 1.0568 - val_accuracy: 0.7759\n",
      "Epoch 165/1000\n",
      "59/65 [==========================>...] - ETA: 0s - loss: 1.4899 - accuracy: 0.4906\n",
      "Epoch 165: saving model to model/keypoint_classifier\\keypoint_classifier.hdf5\n",
      "65/65 [==============================] - 0s 4ms/step - loss: 1.4890 - accuracy: 0.4899 - val_loss: 1.0492 - val_accuracy: 0.7850\n",
      "Epoch 165: early stopping\n"
     ]
    },
    {
     "data": {
      "text/plain": [
       "<keras.callbacks.History at 0x2c3238112e0>"
      ]
     },
     "execution_count": 11,
     "metadata": {},
     "output_type": "execute_result"
    }
   ],
   "source": [
    "model.fit(\n",
    "    X_train,\n",
    "    y_train,\n",
    "    epochs=1000,\n",
    "    batch_size=128,\n",
    "    validation_data=(X_test, y_test),\n",
    "    callbacks=[cp_callback, es_callback]\n",
    ")"
   ]
  },
  {
   "cell_type": "code",
   "execution_count": 12,
   "metadata": {
    "colab": {
     "base_uri": "https://localhost:8080/"
    },
    "id": "pxvb2Y299hE3",
    "outputId": "59eb3185-2e37-4b9e-bc9d-ab1b8ac29b7f"
   },
   "outputs": [
    {
     "name": "stdout",
     "output_type": "stream",
     "text": [
      "22/22 [==============================] - 0s 2ms/step - loss: 1.0492 - accuracy: 0.7850\n"
     ]
    }
   ],
   "source": [
    "# Model evaluation\n",
    "val_loss, val_acc = model.evaluate(X_test, y_test, batch_size=128)"
   ]
  },
  {
   "cell_type": "code",
   "execution_count": 13,
   "metadata": {
    "id": "RBkmDeUW9hE4"
   },
   "outputs": [],
   "source": [
    "# Loading the saved model\n",
    "model = tf.keras.models.load_model(model_save_path)"
   ]
  },
  {
   "cell_type": "code",
   "execution_count": 14,
   "metadata": {
    "colab": {
     "base_uri": "https://localhost:8080/"
    },
    "id": "tFz9Tb0I9hE4",
    "outputId": "1c3b3528-54ae-4ee2-ab04-77429211cbef"
   },
   "outputs": [
    {
     "name": "stdout",
     "output_type": "stream",
     "text": [
      "1/1 [==============================] - 0s 120ms/step\n",
      "[5.3078951e-05 3.6930509e-02 5.7198715e-01 1.4788117e-06 2.1519223e-02\n",
      " 2.3558958e-02 6.7494391e-14 1.4958308e-12 1.8904832e-03 1.4428479e-04\n",
      " 3.9097273e-10 1.8164956e-08 3.2445056e-05 5.9910491e-08 3.4083197e-01\n",
      " 5.5710708e-15 1.1918448e-06 7.8558014e-06 3.0387077e-03 2.8862113e-08\n",
      " 3.0743490e-08 1.7696450e-22 2.4510732e-06 4.6031031e-22 9.6904986e-22\n",
      " 1.3603119e-21]\n",
      "2\n"
     ]
    }
   ],
   "source": [
    "# Inference test\n",
    "predict_result = model.predict(np.array([X_test[0]]))\n",
    "print(np.squeeze(predict_result))\n",
    "print(np.argmax(np.squeeze(predict_result)))"
   ]
  },
  {
   "cell_type": "markdown",
   "metadata": {
    "id": "S3U4yNWx9hE4"
   },
   "source": [
    "# Confusion matrix"
   ]
  },
  {
   "cell_type": "code",
   "execution_count": 15,
   "metadata": {
    "colab": {
     "base_uri": "https://localhost:8080/",
     "height": 582
    },
    "id": "AP1V6SCk9hE5",
    "outputId": "08e41a80-7a4a-4619-8125-ecc371368d19"
   },
   "outputs": [
    {
     "name": "stdout",
     "output_type": "stream",
     "text": [
      "86/86 [==============================] - 0s 2ms/step\n"
     ]
    },
    {
     "data": {
      "image/png": "[encoded data removed]",
      "text/plain": [
       "<Figure size 700x600 with 2 Axes>"
      ]
     },
     "metadata": {},
     "output_type": "display_data"
    },
    {
     "name": "stdout",
     "output_type": "stream",
     "text": [
      "Classification Report\n",
      "              precision    recall  f1-score   support\n",
      "\n",
      "           0       0.81      0.77      0.79       190\n",
      "           1       0.69      0.91      0.78       157\n",
      "           2       0.80      0.97      0.87       193\n",
      "           3       0.92      0.91      0.92       155\n",
      "           4       0.82      0.89      0.85       158\n",
      "           5       1.00      0.80      0.89        90\n",
      "           6       0.82      0.89      0.86       142\n",
      "           7       0.87      0.81      0.84       126\n",
      "           8       0.90      0.88      0.89        81\n",
      "           9       0.97      0.84      0.90       119\n",
      "          10       0.98      0.63      0.77        98\n",
      "          11       0.96      0.97      0.96        90\n",
      "          12       0.69      0.86      0.77       139\n",
      "          13       0.78      0.93      0.85       150\n",
      "          14       0.92      0.70      0.79       136\n",
      "          15       0.69      0.93      0.79        95\n",
      "          16       0.80      0.53      0.64        75\n",
      "          17       0.55      0.42      0.48       115\n",
      "          18       0.74      0.63      0.68       189\n",
      "          19       0.71      0.65      0.68       119\n",
      "          20       0.40      0.65      0.50        80\n",
      "          22       0.00      0.00      0.00        52\n",
      "\n",
      "    accuracy                           0.79      2749\n",
      "   macro avg       0.76      0.75      0.75      2749\n",
      "weighted avg       0.78      0.79      0.78      2749\n",
      "\n"
     ]
    },
    {
     "name": "stderr",
     "output_type": "stream",
     "text": [
      "C:\\Users\\acer\\anaconda3\\lib\\site-packages\\sklearn\\metrics\\_classification.py:1318: UndefinedMetricWarning: Precision and F-score are ill-defined and being set to 0.0 in labels with no predicted samples. Use `zero_division` parameter to control this behavior.\n",
      "  _warn_prf(average, modifier, msg_start, len(result))\n",
      "C:\\Users\\acer\\anaconda3\\lib\\site-packages\\sklearn\\metrics\\_classification.py:1318: UndefinedMetricWarning: Precision and F-score are ill-defined and being set to 0.0 in labels with no predicted samples. Use `zero_division` parameter to control this behavior.\n",
      "  _warn_prf(average, modifier, msg_start, len(result))\n",
      "C:\\Users\\acer\\anaconda3\\lib\\site-packages\\sklearn\\metrics\\_classification.py:1318: UndefinedMetricWarning: Precision and F-score are ill-defined and being set to 0.0 in labels with no predicted samples. Use `zero_division` parameter to control this behavior.\n",
      "  _warn_prf(average, modifier, msg_start, len(result))\n"
     ]
    }
   ],
   "source": [
    "import pandas as pd\n",
    "import seaborn as sns\n",
    "import matplotlib.pyplot as plt\n",
    "from sklearn.metrics import confusion_matrix, classification_report\n",
    "\n",
    "def print_confusion_matrix(y_true, y_pred, report=True):\n",
    "    labels = sorted(list(set(y_true)))\n",
    "    cmx_data = confusion_matrix(y_true, y_pred, labels=labels)\n",
    "    \n",
    "    df_cmx = pd.DataFrame(cmx_data, index=labels, columns=labels)\n",
    " \n",
    "    fig, ax = plt.subplots(figsize=(7, 6))\n",
    "    sns.heatmap(df_cmx, annot=True, fmt='g' ,square=False)\n",
    "    ax.set_ylim(len(set(y_true)), 0)\n",
    "    plt.show()\n",
    "    \n",
    "    if report:\n",
    "        print('Classification Report')\n",
    "        print(classification_report(y_test, y_pred))\n",
    "\n",
    "Y_pred = model.predict(X_test)\n",
    "y_pred = np.argmax(Y_pred, axis=1)\n",
    "\n",
    "print_confusion_matrix(y_test, y_pred)"
   ]
  },
  {
   "cell_type": "markdown",
   "metadata": {
    "id": "FNP6aqzc9hE5"
   },
   "source": [
    "# Convert to model for Tensorflow-Lite"
   ]
  },
  {
   "cell_type": "code",
   "execution_count": 16,
   "metadata": {
    "id": "ODjnYyld9hE6"
   },
   "outputs": [],
   "source": [
    "# Save as a model dedicated to inference\n",
    "model.save(model_save_path, include_optimizer=False)"
   ]
  },
  {
   "cell_type": "code",
   "execution_count": 17,
   "metadata": {
    "colab": {
     "base_uri": "https://localhost:8080/"
    },
    "id": "zRfuK8Y59hE6",
    "outputId": "a4ca585c-b5d5-4244-8291-8674063209bb"
   },
   "outputs": [
    {
     "name": "stderr",
     "output_type": "stream",
     "text": [
      "WARNING:absl:Found untraced functions such as _update_step_xla while saving (showing 1 of 1). These functions will not be directly callable after loading.\n"
     ]
    },
    {
     "name": "stdout",
     "output_type": "stream",
     "text": [
      "INFO:tensorflow:Assets written to: C:\\Users\\acer\\AppData\\Local\\Temp\\tmp3kn0miow\\assets\n"
     ]
    },
    {
     "name": "stderr",
     "output_type": "stream",
     "text": [
      "INFO:tensorflow:Assets written to: C:\\Users\\acer\\AppData\\Local\\Temp\\tmp3kn0miow\\assets\n"
     ]
    },
    {
     "data": {
      "text/plain": [
       "7512"
      ]
     },
     "execution_count": 17,
     "metadata": {},
     "output_type": "execute_result"
    }
   ],
   "source": [
    "# Transform model (quantization)\n",
    "\n",
    "converter = tf.lite.TFLiteConverter.from_keras_model(model)\n",
    "converter.optimizations = [tf.lite.Optimize.DEFAULT]\n",
    "tflite_quantized_model = converter.convert()\n",
    "\n",
    "open(tflite_save_path, 'wb').write(tflite_quantized_model)"
   ]
  },
  {
   "cell_type": "markdown",
   "metadata": {
    "id": "CHBPBXdx9hE6"
   },
   "source": [
    "# Inference test"
   ]
  },
  {
   "cell_type": "code",
   "execution_count": 18,
   "metadata": {
    "id": "mGAzLocO9hE7"
   },
   "outputs": [],
   "source": [
    "interpreter = tf.lite.Interpreter(model_path=tflite_save_path)\n",
    "interpreter.allocate_tensors()"
   ]
  },
  {
   "cell_type": "code",
   "execution_count": 19,
   "metadata": {
    "id": "oQuDK8YS9hE7"
   },
   "outputs": [],
   "source": [
    "# Get I / O tensor\n",
    "input_details = interpreter.get_input_details()\n",
    "output_details = interpreter.get_output_details()"
   ]
  },
  {
   "cell_type": "code",
   "execution_count": 20,
   "metadata": {
    "id": "2_ixAf_l9hE7"
   },
   "outputs": [],
   "source": [
    "interpreter.set_tensor(input_details[0]['index'], np.array([X_test[0]]))"
   ]
  },
  {
   "cell_type": "code",
   "execution_count": 21,
   "metadata": {
    "colab": {
     "base_uri": "https://localhost:8080/"
    },
    "id": "s4FoAnuc9hE7",
    "outputId": "91f18257-8d8b-4ef3-c558-e9b5f94fabbf",
    "scrolled": true
   },
   "outputs": [
    {
     "name": "stdout",
     "output_type": "stream",
     "text": [
      "Wall time: 4.46 ms\n"
     ]
    }
   ],
   "source": [
    "%%time\n",
    "# Inference implementation\n",
    "interpreter.invoke()\n",
    "tflite_results = interpreter.get_tensor(output_details[0]['index'])"
   ]
  },
  {
   "cell_type": "code",
   "execution_count": 22,
   "metadata": {
    "colab": {
     "base_uri": "https://localhost:8080/"
    },
    "id": "vONjp19J9hE8",
    "outputId": "77205e24-fd00-42c4-f7b6-e06e527c2cba"
   },
   "outputs": [
    {
     "name": "stdout",
     "output_type": "stream",
     "text": [
      "[5.3079017e-05 3.6930572e-02 5.7198673e-01 1.4788162e-06 2.1519246e-02\n",
      " 2.3558976e-02 6.7494729e-14 1.4958355e-12 1.8904861e-03 1.4428495e-04\n",
      " 3.9097398e-10 1.8165045e-08 3.2445092e-05 5.9910676e-08 3.4083232e-01\n",
      " 5.5710886e-15 1.1918462e-06 7.8558251e-06 3.0387128e-03 2.8862143e-08\n",
      " 3.0743642e-08 1.7696507e-22 2.4510759e-06 4.6031344e-22 9.6905289e-22\n",
      " 1.3603109e-21]\n",
      "2\n"
     ]
    }
   ],
   "source": [
    "print(np.squeeze(tflite_results))\n",
    "print(np.argmax(np.squeeze(tflite_results)))"
   ]
  }
 ],
 "metadata": {
  "accelerator": "GPU",
  "colab": {
   "collapsed_sections": [],
   "name": "keypoint_classification_EN.ipynb",
   "provenance": [],
   "toc_visible": true
  },
  "kernelspec": {
   "display_name": "Python 3 (ipykernel)",
   "language": "python",
   "name": "python3"
  },
  "language_info": {
   "codemirror_mode": {
    "name": "ipython",
    "version": 3
   },
   "file_extension": ".py",
   "mimetype": "text/x-python",
   "name": "python",
   "nbconvert_exporter": "python",
   "pygments_lexer": "ipython3",
   "version": "3.9.13"
  }
 },
 "nbformat": 4,
 "nbformat_minor": 1
}
